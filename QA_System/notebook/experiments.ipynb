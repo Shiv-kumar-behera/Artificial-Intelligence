{
 "cells": [
  {
   "cell_type": "code",
   "execution_count": 22,
   "id": "c7891829",
   "metadata": {},
   "outputs": [
    {
     "data": {
      "text/plain": [
       "True"
      ]
     },
     "execution_count": 22,
     "metadata": {},
     "output_type": "execute_result"
    }
   ],
   "source": [
    "import os\n",
    "from dotenv import load_dotenv\n",
    "load_dotenv()"
   ]
  },
  {
   "cell_type": "code",
   "execution_count": 23,
   "id": "d35ebdf6",
   "metadata": {},
   "outputs": [],
   "source": [
    "google_api_key=os.getenv(\"GOOGLE_API_KEY\")  # This will load the environment variable from the .env file\n",
    "# You can now use the GOOGLE_API_KEY in your application"
   ]
  },
  {
   "cell_type": "code",
   "execution_count": 24,
   "id": "b804298e",
   "metadata": {},
   "outputs": [
    {
     "name": "stdout",
     "output_type": "stream",
     "text": [
      "GOOGLE_API_KEY is set successfully.\n"
     ]
    }
   ],
   "source": [
    "if google_api_key==\"\":\n",
    "    print(\"GOOGLE_API_KEY is not set. Please check your .env file.\")\n",
    "else:\n",
    "    print(\"GOOGLE_API_KEY is set successfully.\")\n",
    "    # You can proceed with using the google_api_key in your application logic"
   ]
  },
  {
   "cell_type": "code",
   "execution_count": 39,
   "id": "2d5696d9",
   "metadata": {},
   "outputs": [],
   "source": [
    "from llama_index.core import (\n",
    "    VectorStoreIndex,  # Importing VectorStoreIndex from llama_index.core\n",
    "    SimpleDirectoryReader,  # Importing SimpleDirectoryReader for reading documents from a directory\n",
    "    StorageContext,  # Importing StorageContext for managing storage\n",
    "    load_index_from_storage,  # Importing load_index_from_storage to load an index from storage\n",
    "    ServiceContext,  # Importing ServiceContext for managing service configurations\n",
    ")\n",
    "from llama_index.llms.google_genai import GoogleGenAI  # Importing Gemini for LLM functionality\n",
    "from IPython.display import display, Markdown  # Importing display and Markdown for rendering output in Jupyter notebooks\n",
    "import google.generativeai as genai  # Importing Google Generative AI for using Google's LLMs\n",
    "from llama_index.embeddings.google_genai import GoogleGenAIEmbedding  # Importing GeminiEmbedding for embeddings"
   ]
  },
  {
   "cell_type": "code",
   "execution_count": 26,
   "id": "4fcf04ef",
   "metadata": {},
   "outputs": [],
   "source": [
    "genai.configure(api_key=google_api_key)  # Configuring Google Generative AI with the API key"
   ]
  },
  {
   "cell_type": "code",
   "execution_count": 27,
   "id": "79390cc3",
   "metadata": {},
   "outputs": [
    {
     "name": "stdout",
     "output_type": "stream",
     "text": [
      "Model: models/embedding-gecko-001\n",
      "Description: Obtain a distributed representation of a text.\n",
      "___________________________________________________________________________________________\n",
      "Model: models/gemini-1.0-pro-vision-latest\n",
      "Description: The original Gemini 1.0 Pro Vision model version which was optimized for image understanding. Gemini 1.0 Pro Vision was deprecated on July 12, 2024. Move to a newer Gemini version.\n",
      "___________________________________________________________________________________________\n",
      "Model: models/gemini-pro-vision\n",
      "Description: The original Gemini 1.0 Pro Vision model version which was optimized for image understanding. Gemini 1.0 Pro Vision was deprecated on July 12, 2024. Move to a newer Gemini version.\n",
      "___________________________________________________________________________________________\n",
      "Model: models/gemini-1.5-pro-latest\n",
      "Description: Alias that points to the most recent production (non-experimental) release of Gemini 1.5 Pro, our mid-size multimodal model that supports up to 2 million tokens.\n",
      "___________________________________________________________________________________________\n",
      "Model: models/gemini-1.5-pro-002\n",
      "Description: Stable version of Gemini 1.5 Pro, our mid-size multimodal model that supports up to 2 million tokens, released in September of 2024.\n",
      "___________________________________________________________________________________________\n",
      "Model: models/gemini-1.5-pro\n",
      "Description: Stable version of Gemini 1.5 Pro, our mid-size multimodal model that supports up to 2 million tokens, released in May of 2024.\n",
      "___________________________________________________________________________________________\n",
      "Model: models/gemini-1.5-flash-latest\n",
      "Description: Alias that points to the most recent production (non-experimental) release of Gemini 1.5 Flash, our fast and versatile multimodal model for scaling across diverse tasks.\n",
      "___________________________________________________________________________________________\n",
      "Model: models/gemini-1.5-flash\n",
      "Description: Alias that points to the most recent stable version of Gemini 1.5 Flash, our fast and versatile multimodal model for scaling across diverse tasks.\n",
      "___________________________________________________________________________________________\n",
      "Model: models/gemini-1.5-flash-002\n",
      "Description: Stable version of Gemini 1.5 Flash, our fast and versatile multimodal model for scaling across diverse tasks, released in September of 2024.\n",
      "___________________________________________________________________________________________\n",
      "Model: models/gemini-1.5-flash-8b\n",
      "Description: Stable version of Gemini 1.5 Flash-8B, our smallest and most cost effective Flash model, released in October of 2024.\n",
      "___________________________________________________________________________________________\n",
      "Model: models/gemini-1.5-flash-8b-001\n",
      "Description: Stable version of Gemini 1.5 Flash-8B, our smallest and most cost effective Flash model, released in October of 2024.\n",
      "___________________________________________________________________________________________\n",
      "Model: models/gemini-1.5-flash-8b-latest\n",
      "Description: Alias that points to the most recent production (non-experimental) release of Gemini 1.5 Flash-8B, our smallest and most cost effective Flash model, released in October of 2024.\n",
      "___________________________________________________________________________________________\n",
      "Model: models/gemini-2.5-pro-preview-03-25\n",
      "Description: Gemini 2.5 Pro Preview 03-25\n",
      "___________________________________________________________________________________________\n",
      "Model: models/gemini-2.5-flash-preview-05-20\n",
      "Description: Preview release (April 17th, 2025) of Gemini 2.5 Flash\n",
      "___________________________________________________________________________________________\n",
      "Model: models/gemini-2.5-flash\n",
      "Description: Stable version of Gemini 2.5 Flash, our mid-size multimodal model that supports up to 1 million tokens, released in June of 2025.\n",
      "___________________________________________________________________________________________\n",
      "Model: models/gemini-2.5-flash-lite-preview-06-17\n",
      "Description: Preview release (June 11th, 2025) of Gemini 2.5 Flash-Lite\n",
      "___________________________________________________________________________________________\n",
      "Model: models/gemini-2.5-pro-preview-05-06\n",
      "Description: Preview release (May 6th, 2025) of Gemini 2.5 Pro\n",
      "___________________________________________________________________________________________\n",
      "Model: models/gemini-2.5-pro-preview-06-05\n",
      "Description: Preview release (June 5th, 2025) of Gemini 2.5 Pro\n",
      "___________________________________________________________________________________________\n",
      "Model: models/gemini-2.5-pro\n",
      "Description: Stable release (June 17th, 2025) of Gemini 2.5 Pro\n",
      "___________________________________________________________________________________________\n",
      "Model: models/gemini-2.0-flash-exp\n",
      "Description: Gemini 2.0 Flash Experimental\n",
      "___________________________________________________________________________________________\n",
      "Model: models/gemini-2.0-flash\n",
      "Description: Gemini 2.0 Flash\n",
      "___________________________________________________________________________________________\n",
      "Model: models/gemini-2.0-flash-001\n",
      "Description: Stable version of Gemini 2.0 Flash, our fast and versatile multimodal model for scaling across diverse tasks, released in January of 2025.\n",
      "___________________________________________________________________________________________\n",
      "Model: models/gemini-2.0-flash-exp-image-generation\n",
      "Description: Gemini 2.0 Flash (Image Generation) Experimental\n",
      "___________________________________________________________________________________________\n",
      "Model: models/gemini-2.0-flash-lite-001\n",
      "Description: Stable version of Gemini 2.0 Flash-Lite\n",
      "___________________________________________________________________________________________\n",
      "Model: models/gemini-2.0-flash-lite\n",
      "Description: Gemini 2.0 Flash-Lite\n",
      "___________________________________________________________________________________________\n",
      "Model: models/gemini-2.0-flash-preview-image-generation\n",
      "Description: Gemini 2.0 Flash Preview Image Generation\n",
      "___________________________________________________________________________________________\n",
      "Model: models/gemini-2.0-flash-lite-preview-02-05\n",
      "Description: Preview release (February 5th, 2025) of Gemini 2.0 Flash-Lite\n",
      "___________________________________________________________________________________________\n",
      "Model: models/gemini-2.0-flash-lite-preview\n",
      "Description: Preview release (February 5th, 2025) of Gemini 2.0 Flash-Lite\n",
      "___________________________________________________________________________________________\n",
      "Model: models/gemini-2.0-pro-exp\n",
      "Description: Experimental release (March 25th, 2025) of Gemini 2.5 Pro\n",
      "___________________________________________________________________________________________\n",
      "Model: models/gemini-2.0-pro-exp-02-05\n",
      "Description: Experimental release (March 25th, 2025) of Gemini 2.5 Pro\n",
      "___________________________________________________________________________________________\n",
      "Model: models/gemini-exp-1206\n",
      "Description: Experimental release (March 25th, 2025) of Gemini 2.5 Pro\n",
      "___________________________________________________________________________________________\n",
      "Model: models/gemini-2.0-flash-thinking-exp-01-21\n",
      "Description: Preview release (April 17th, 2025) of Gemini 2.5 Flash\n",
      "___________________________________________________________________________________________\n",
      "Model: models/gemini-2.0-flash-thinking-exp\n",
      "Description: Preview release (April 17th, 2025) of Gemini 2.5 Flash\n",
      "___________________________________________________________________________________________\n",
      "Model: models/gemini-2.0-flash-thinking-exp-1219\n",
      "Description: Preview release (April 17th, 2025) of Gemini 2.5 Flash\n",
      "___________________________________________________________________________________________\n",
      "Model: models/gemini-2.5-flash-preview-tts\n",
      "Description: Gemini 2.5 Flash Preview TTS\n",
      "___________________________________________________________________________________________\n",
      "Model: models/gemini-2.5-pro-preview-tts\n",
      "Description: Gemini 2.5 Pro Preview TTS\n",
      "___________________________________________________________________________________________\n",
      "Model: models/learnlm-2.0-flash-experimental\n",
      "Description: LearnLM 2.0 Flash Experimental\n",
      "___________________________________________________________________________________________\n",
      "Model: models/gemma-3-1b-it\n",
      "Description: \n",
      "___________________________________________________________________________________________\n",
      "Model: models/gemma-3-4b-it\n",
      "Description: \n",
      "___________________________________________________________________________________________\n",
      "Model: models/gemma-3-12b-it\n",
      "Description: \n",
      "___________________________________________________________________________________________\n",
      "Model: models/gemma-3-27b-it\n",
      "Description: \n",
      "___________________________________________________________________________________________\n",
      "Model: models/gemma-3n-e4b-it\n",
      "Description: \n",
      "___________________________________________________________________________________________\n",
      "Model: models/gemma-3n-e2b-it\n",
      "Description: \n",
      "___________________________________________________________________________________________\n",
      "Model: models/gemini-2.5-flash-lite\n",
      "Description: Stable verion of Gemini 2.5 Flash-Lite, released in July of 2025\n",
      "___________________________________________________________________________________________\n",
      "Model: models/embedding-001\n",
      "Description: Obtain a distributed representation of a text.\n",
      "___________________________________________________________________________________________\n",
      "Model: models/text-embedding-004\n",
      "Description: Obtain a distributed representation of a text.\n",
      "___________________________________________________________________________________________\n",
      "Model: models/gemini-embedding-exp-03-07\n",
      "Description: Obtain a distributed representation of a text.\n",
      "___________________________________________________________________________________________\n",
      "Model: models/gemini-embedding-exp\n",
      "Description: Obtain a distributed representation of a text.\n",
      "___________________________________________________________________________________________\n",
      "Model: models/gemini-embedding-001\n",
      "Description: Obtain a distributed representation of a text.\n",
      "___________________________________________________________________________________________\n",
      "Model: models/aqa\n",
      "Description: Model trained to return answers to questions that are grounded in provided sources, along with estimating answerable probability.\n",
      "___________________________________________________________________________________________\n",
      "Model: models/imagen-3.0-generate-002\n",
      "Description: Vertex served Imagen 3.0 002 model\n",
      "___________________________________________________________________________________________\n",
      "Model: models/imagen-4.0-generate-preview-06-06\n",
      "Description: Vertex served Imagen 4.0 model\n",
      "___________________________________________________________________________________________\n",
      "Model: models/imagen-4.0-ultra-generate-preview-06-06\n",
      "Description: Vertex served Imagen 4.0 ultra model\n",
      "___________________________________________________________________________________________\n",
      "Model: models/veo-2.0-generate-001\n",
      "Description: Vertex served Veo 2 model. Access to this model requires billing to be enabled on the associated Google Cloud Platform account. Please visit https://console.cloud.google.com/billing to enable it.\n",
      "___________________________________________________________________________________________\n",
      "Model: models/veo-3.0-generate-preview\n",
      "Description: Veo 3 preview. Access to this model requires billing to be enabled on the associated Google Cloud Platform account. Please visit https://console.cloud.google.com/billing to enable it.\n",
      "___________________________________________________________________________________________\n",
      "Model: models/gemini-2.5-flash-preview-native-audio-dialog\n",
      "Description: Gemini 2.5 Flash Preview Native Audio Dialog\n",
      "___________________________________________________________________________________________\n",
      "Model: models/gemini-2.5-flash-exp-native-audio-thinking-dialog\n",
      "Description: Gemini 2.5 Flash Exp Native Audio Thinking Dialog\n",
      "___________________________________________________________________________________________\n",
      "Model: models/gemini-2.0-flash-live-001\n",
      "Description: Gemini 2.0 Flash 001\n",
      "___________________________________________________________________________________________\n",
      "Model: models/gemini-live-2.5-flash-preview\n",
      "Description: Gemini Live 2.5 Flash Preview\n",
      "___________________________________________________________________________________________\n",
      "Model: models/gemini-2.5-flash-live-preview\n",
      "Description: Gemini 2.5 Flash Live Preview\n",
      "___________________________________________________________________________________________\n"
     ]
    }
   ],
   "source": [
    "for models in genai.list_models():\n",
    "    print(f\"Model: {models.name}\")\n",
    "    print(f\"Description: {models.description}\")\n",
    "    print(\"___________________________________________________________________________________________\")"
   ]
  },
  {
   "cell_type": "markdown",
   "id": "7a180f83",
   "metadata": {},
   "source": [
    "Text to text generation"
   ]
  },
  {
   "cell_type": "code",
   "execution_count": 28,
   "id": "1b27dc05",
   "metadata": {},
   "outputs": [],
   "source": [
    "documents=SimpleDirectoryReader(\"../data\").load_data()  # Loading data from the specified directory"
   ]
  },
  {
   "cell_type": "code",
   "execution_count": 29,
   "id": "f1c6c2fb",
   "metadata": {},
   "outputs": [
    {
     "data": {
      "text/plain": [
       "'The Marvel Cinematic Universe (MCU) centers on a series of American superhero films produced by Marvel Studios based on characters that appear in publications by Marvel Comics. The MCU is the shared universe in which all of the films are set. The films have been in production since 2007, and in that time Marvel Studios has produced and released 37 films, with at least 8 more in various stages of development. It is the highest-grossing film franchise of all time, having grossed over $31.9 billion at the global box office. This includes Avengers: Endgame, which became the highest-grossing film of all time at the time of its release.\\r\\n\\r\\nThe films are written and directed by various individuals and feature large, often ensemble, casts. Marvel Studios president Kevin Feige has produced every film in the franchise, while other Marvel Studios executives have also produced some films alongside Feige, including the studio\\'s former CEO Avi Arad for the first two releases. Other individuals have also produced select MCU films, including Gale Anne Hurd for The Incredible Hulk; Amy Pascal for the Spider-Man films; Lauren Shuler Donner, Ryan Reynolds, and Shawn Levy for Deadpool & Wolverine; and Anthony and Joe Russo for Avengers: Doomsday and Avengers: Secret Wars.\\r\\n\\r\\nMarvel Studios releases its films in groups called \"Phases\". Its first film is Iron Man (2008), which was distributed by Paramount Pictures. Paramount also distributed Iron Man 2 (2010), Thor (2011), and Captain America: The First Avenger (2011), while Universal Pictures distributed The Incredible Hulk (2008), which was co-produced by Hurd\\'s production company Valhalla Motion Pictures. Walt Disney Studios Motion Pictures began distributing the series with the crossover film The Avengers (2012), which concluded Phase One. Phase Two comprises Iron Man 3 (2013), Thor: The Dark World (2013), Captain America: The Winter Soldier (2014), Guardians of the Galaxy (2014), Avengers: Age of Ultron (2015), and Ant-Man (2015).\\r\\n\\r\\nCaptain America: Civil War (2016) is the first film of Phase Three, and is followed by Doctor Strange (2016), Guardians of the Galaxy Vol. 2 (2017), Spider-Man: Homecoming (2017), Thor: Ragnarok (2017), Black Panther (2018), Avengers: Infinity War (2018), Ant-Man and the Wasp (2018), Captain Marvel (2019), Avengers: Endgame (2019), and Spider-Man: Far From Home (2019). The first three Phases are collectively known as \"The Infinity Saga\". The Spider-Man films are owned, financed, and distributed by Sony Pictures and co-produced by Sony\\'s Columbia Pictures and Pascal Pictures.\\r\\n\\r\\nPhase Four\\'s group of films began with Black Widow (2021), and was followed by Shang-Chi and the Legend of the Ten Rings (2021), Eternals (2021), Spider-Man: No Way Home (2021), Doctor Strange in the Multiverse of Madness (2022), Thor: Love and Thunder (2022), and Black Panther: Wakanda Forever (2022). The Phase featured these films, as well as eight television series and two specials for the streaming service Disney+.\\r\\n\\r\\nPhase Five began with Ant-Man and the Wasp: Quantumania (2023), followed by Guardians of the Galaxy Vol. 3 (2023), The Marvels (2023), Deadpool & Wolverine (2024), Captain America: Brave New World (2025), and Thunderbolts* (2025). This Phase also includes a total of nine seasons of television series for Disney+. Phase Six began with The Fantastic Four: First Steps (2025) and will include Spider-Man: Brand New Day (2026), Avengers: Doomsday (2026), and Avengers: Secret Wars (2027). The fourth, fifth, and sixth Phases are collectively known as \"The Multiverse Saga\". Deadpool & Wolverine was co-produced by Reynolds\\'s and Levy\\'s respective companies Maximum Effort and 21 Laps Entertainment, while the Russo brothers\\'s company AGBO co-produces Avengers: Doomsday and Secret Wars.\\r\\n\\r\\nDevelopment\\r\\nBy 2005, Marvel Entertainment had begun planning to produce its own films independently and distribute them through Paramount Pictures.[1] In June 2007, Marvel Studios secured funding from a $525 million revolving credit facility with Merrill Lynch.[2] Marvel planned to release individual films for their main characters and then merge them in a crossover film.[3]\\r\\n\\r\\nKevin Feige speaking at the 2019 San Diego Comic-Con International\\r\\nMarvel Studios president Kevin Feige helped conceive a shared media universe of Marvel properties.[4]\\r\\nMarvel Studios president Kevin Feige said in November 2013 that releases each year would ideally include one film based on an existing character and one featuring a new character, feeling that would be \"a nice rhythm\", although, this was not always the case as shown by the sequels Iron Man 3 and Thor: The Dark World being released in 2013.[5] Feige elaborated in July 2014 that this model was being followed for 2014 and 2015, and he felt it would be fun to continue.[6] After the reveal that month of multiple release dates for films through 2019,[7] in which some years had three films scheduled, Feige said there was no \"number cruncher\" telling the studio to increase their film output and the change was based on them \"managing [existing] franchises, film to film, and when we have a team ready to go, why tell them to go away for four years just because we don\\'t have a slot? We\\'d rather find a way to keep that going.\"[8] After the titles for these films were revealed in October 2014,[9] Feige said the studio was \"firing on all cylinders right now\" and this made them comfortable with increasing to three films a year in 2017 and 2018 without changing their production approach.[10] On the potential for so-called \"superhero fatigue\", Feige stated that, although each film is based on Marvel Comics and feature the \"Marvel Studios\" logo, he believed each film had unique qualities that differentiated them from the others and from non-Marvel Cinematic Universe (MCU) superhero films. For example, he noted how the studio\\'s 2016 releases, Captain America: Civil War and Doctor Strange, were \"completely different movies\". The studio hoped to continue to surprise audiences and \"not [fall] into things becoming too similar\".[11]\\r\\n\\r\\nIn February 2014, Feige said Marvel Studios wanted to mimic the \"rhythm\" of comic book releases by having characters appear in their own films and then come together for crossover events,[12] with Avengers films acting as \"big, giant linchpins\" within the shared universe.[13] On expanding the number of characters in the universe and letting individual films breathe and work on their own, as opposed to having Avenger team-ups outside of Avengers films, Feige said they planned to teach general audiences \"about the notion of the characters existing separately, coming together for specific events and going away and existing separately in their own worlds again. Just like comic readers have been doing for decades... people sort of are accepting that there\\'s just a time when they should be together and there\\'s a time when they\\'re not.\"[14] Discussing how much story is developed for future MCU films, Feige said in September 2015 that \"broad strokes\" and occasionally \"super-specific things\" are determined far in advance. He said there was enough leeway to \"have room to sway and to move and to go and to surprise ourselves in places that we end up\" and that each film would feel satisfying on its own, but still interconnected to the larger universe and as if it had been planned years ahead of time. The studio has contingency plans for times when they are unable to secure a certain actor to reprise a role, and are able to respond to surprises such as the film rights to use Spider-Man becoming available in February 2015.[15]\\r\\n\\r\\nFeige discussed moving the MCU to Phase Four in April 2016, reflecting on the first three phases of films and saying, \"I think there will be a finality to moments of Phase Three, as well as new beginnings that will mark a different, a very different, a distinctively different chapter in what will someday be a complete first saga made up of three Phases.\" Frequent MCU director Joe Russo added that Phase Three was the \"deconstruction Phase\" of the MCU, beginning with Civil War and leading into \"the culmination films\" of Avengers: Infinity War (2018) and Avengers: Endgame (2019).[16] A year later, Feige felt after the conclusion of Phase Three, Marvel might abandon grouping the films by Phases, saying, \"it might be a new thing\".[17] Feige mentioned that Avengers: Endgame would provide \"a definitive end\" to the films and storylines preceding it, with the franchise having \"two distinct periods. Everything before [Endgame] and everything after\". Many of the films that were planned to follow Endgame were intentionally different from the films in \"The Infinity Saga\", which includes Phase One, Phase Two, and Phase Three.[18]\\r\\n\\r\\nIn July 2019, Feige announced the Phase Four slate at San Diego Comic-Con, consisting of films and television event series for the streaming service Disney+.[19] In December 2020, at Disney\\'s Investor Day, Marvel provided updates to previously announced films for the Phase.[20][21] In late June 2022, Feige said audiences would begin to see where the next saga of the MCU would be heading as Phase Four neared its conclusion, adding that there had been many clues throughout the Phase to what that would be. He said Marvel Studios would be a \"little more direct\" on their future plans in the following months to provide audiences with \"the bigger picture\".[22] In July 2022, Feige unveiled the Phase Five and Six slates at San Diego Comic-Con, similarly consisting of films and Disney+ series, and revealed that these three Phases would make up \"The Multiverse Saga\".[23]\\r\\n\\r\\nIn May 2024, Disney CEO Bob Iger said the company planned to release two, or at most three, Marvel films a year moving forward, down from four films being released in some recent years, as part of Disney\\'s larger strategy to reduce its content output and focus on quality. At that time, four films were still expected to be released in both 2025 and 2026. Iger said Marvel content would continue to balance sequels with new franchises.[24] Later in 2024, Disney removed the long-in-development film Blade from its 2025 release date and also removed an unspecified Marvel film that was scheduled for July 2026,[25][26] which was replaced by Sony Pictures\\'s Spider-Man: Brand New Day.[27][28] Feige said the three films that were still scheduled for 2025 had been in development for a long time and were ready for release. He expected Marvel Studios to start releasing two films a year from 2026.[29] In May 2025, Iger called Thunderbolts* the \"first and best example\" of Marvel Studios\\' refocusing efforts.[30] Further changes to Marvel Studios\\' release slate resulted in over a year gap between The Fantastic Four: First Steps (2025) and Brand New Day; this would be the longest gap between MCU film releases since the gap between Spider-Man: Far From Home (2019) and Black Widow (2021), which was impacted by the COVID-19 pandemic.[31] In July, Feige said the studio was working to reduce its film budgets, which had increased since Endgame in part due to the pandemic. He said the budgets for their 2024 and 2025 films were a third lower than those for 2022 and 2023. Marvel Studios executives met with the creative team behind the film The Creator (2023) to understand how that film was made with a relatively low $80 million budget.[32]'"
      ]
     },
     "execution_count": 29,
     "metadata": {},
     "output_type": "execute_result"
    }
   ],
   "source": [
    "documents[0].text"
   ]
  },
  {
   "cell_type": "code",
   "execution_count": 30,
   "id": "58e474ca",
   "metadata": {},
   "outputs": [],
   "source": [
    "gemini_embed_model=GoogleGenAIEmbedding(model_name=\"models/embedding-001\")"
   ]
  },
  {
   "cell_type": "code",
   "execution_count": 31,
   "id": "39feca84",
   "metadata": {},
   "outputs": [],
   "source": [
    "model=GoogleGenAI(model_name=\"models/gemini-1.5-pro-latest\")  # Initializing the Gemini model with the specified model name"
   ]
  },
  {
   "cell_type": "code",
   "execution_count": 41,
   "id": "3a892418",
   "metadata": {},
   "outputs": [],
   "source": [
    "from llama_index.core import settings\n",
    "\n",
    "settings.llm = model\n",
    "settings.embed_model = gemini_embed_model\n",
    "settings.chunk_size = 800  # Setting the chunk size for processing documents\n",
    "settings.chunk_overlap = 100  # Setting the overlap size for chunks"
   ]
  },
  {
   "cell_type": "code",
   "execution_count": 44,
   "id": "732b5449",
   "metadata": {},
   "outputs": [],
   "source": [
    "index = VectorStoreIndex.from_documents(documents, embed_model=gemini_embed_model, llm=model)  # Creating an index from the loaded documents"
   ]
  },
  {
   "cell_type": "code",
   "execution_count": 45,
   "id": "84789a11",
   "metadata": {},
   "outputs": [],
   "source": [
    "index.storage_context.persist(persist_dir=\"../storage\")  # Persisting the index to the specified storage directory"
   ]
  },
  {
   "cell_type": "code",
   "execution_count": 48,
   "id": "de2f48d2",
   "metadata": {},
   "outputs": [],
   "source": [
    "querry_engine=index.as_query_engine(llm=model)  # Creating a query engine from the index"
   ]
  },
  {
   "cell_type": "code",
   "execution_count": 54,
   "id": "aa7fd254",
   "metadata": {},
   "outputs": [],
   "source": [
    "res=querry_engine.query(\"What is the capital of France?\")  # Example query to test the query engine"
   ]
  },
  {
   "cell_type": "code",
   "execution_count": 55,
   "id": "572c49f9",
   "metadata": {},
   "outputs": [
    {
     "data": {
      "text/plain": [
       "'This question cannot be answered from the given source.\\n'"
      ]
     },
     "execution_count": 55,
     "metadata": {},
     "output_type": "execute_result"
    }
   ],
   "source": [
    "res.response"
   ]
  },
  {
   "cell_type": "code",
   "execution_count": 56,
   "id": "52247228",
   "metadata": {},
   "outputs": [],
   "source": [
    "res=querry_engine.query(\"What is Marvel?\")  # Example query to test the query engine"
   ]
  },
  {
   "cell_type": "code",
   "execution_count": 57,
   "id": "43115aef",
   "metadata": {},
   "outputs": [
    {
     "data": {
      "text/plain": [
       "'The Marvel Cinematic Universe (MCU) centers on a series of American superhero films produced by Marvel Studios based on characters that appear in publications by Marvel Comics. It is the shared universe in which all of the films are set.\\n'"
      ]
     },
     "execution_count": 57,
     "metadata": {},
     "output_type": "execute_result"
    }
   ],
   "source": [
    "res.response  # Displaying the response from the query engine"
   ]
  },
  {
   "cell_type": "code",
   "execution_count": null,
   "id": "0c0afc11",
   "metadata": {},
   "outputs": [],
   "source": []
  }
 ],
 "metadata": {
  "kernelspec": {
   "display_name": "venv",
   "language": "python",
   "name": "python3"
  },
  "language_info": {
   "codemirror_mode": {
    "name": "ipython",
    "version": 3
   },
   "file_extension": ".py",
   "mimetype": "text/x-python",
   "name": "python",
   "nbconvert_exporter": "python",
   "pygments_lexer": "ipython3",
   "version": "3.13.4"
  }
 },
 "nbformat": 4,
 "nbformat_minor": 5
}
