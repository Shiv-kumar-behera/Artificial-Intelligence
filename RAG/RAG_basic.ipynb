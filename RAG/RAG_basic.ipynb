{
 "cells": [
  {
   "cell_type": "code",
   "execution_count": 1,
   "id": "97a98e49-5aee-43e6-83ad-f20b2375f36a",
   "metadata": {},
   "outputs": [],
   "source": [
    "from collections import Counter\n",
    "import math\n",
    "import numpy as np\n",
    "import requests\n",
    "import json"
   ]
  },
  {
   "cell_type": "code",
   "execution_count": 2,
   "id": "8ee2a761-426d-4d7f-8392-442304f07519",
   "metadata": {},
   "outputs": [],
   "source": [
    "corpus_of_documents = [\n",
    "    # Machine Learning\n",
    "    \"Study machine learning with real data and improve learning accuracy.\",\n",
    "    \"Analyze overfitting in models using training data and test data.\",\n",
    "    \"Explore neural networks trained on large datasets for better results.\",\n",
    "    \n",
    "    # Computers\n",
    "    \"Learn how computers process data using binary digits.\",\n",
    "    \"Experiment with operating systems managing hardware and software.\",\n",
    "    \"Research microprocessors transforming computer design and usage.\",\n",
    "    \n",
    "    # Electronics\n",
    "    \"Apply Ohm’s Law relating voltage, current, resistance in circuits.\",\n",
    "    \"Investigate semiconductors powering modern electronic devices.\",\n",
    "    \"Test capacitors storing and releasing electrical energy.\",\n",
    "    \n",
    "    # Lifestyle\n",
    "    \"Practice exercise improving health and boosting mental strength.\",\n",
    "    \"Plan balanced diet providing energy for daily activity.\",\n",
    "    \"Maintain good sleep improving brain health and overall wellness.\",\n",
    "    \n",
    "    # Environment\n",
    "    \"Study deforestation reducing forest cover and impacting climate.\",\n",
    "    \"Recycle materials saving energy and conserving resources.\",\n",
    "    \"Adopt solar energy reducing fossil fuel dependency.\"\n",
    "]"
   ]
  },
  {
   "cell_type": "code",
   "execution_count": 3,
   "id": "baf69643-e983-4ab7-b029-575f2873b5c2",
   "metadata": {},
   "outputs": [],
   "source": [
    "def cosine_similarity(querry, document):\n",
    "    querry_embedding = Counter(querry.lower().split(\" \"))\n",
    "    document_embedding = Counter(document.lower().split(\" \"))\n",
    "    dot_prod = 0\n",
    "    querry_magnitude = 0\n",
    "    document_magnitude = 0\n",
    "    try:\n",
    "        for token in querry_embedding.keys() & document_embedding.keys():\n",
    "            dot_prod += querry_embedding[token] * document_embedding[token]\n",
    "            querry_magnitude += querry_embedding[token] ** 2\n",
    "            document_magnitude += document_embedding[token] ** 2\n",
    "        return dot_prod / (math.sqrt(querry_magnitude) + math.sqrt(document_magnitude))\n",
    "    except:\n",
    "        return 0"
   ]
  },
  {
   "cell_type": "code",
   "execution_count": 4,
   "id": "cc07ff4a-cf2a-482e-b409-448e94bc40f7",
   "metadata": {},
   "outputs": [],
   "source": [
    "def generate_response(query, corpus):\n",
    "    similarity = []\n",
    "    for document in corpus:\n",
    "        similarity.append(cosine_similarity(query, document))\n",
    "    return corpus[similarity.index(max(similarity))]"
   ]
  },
  {
   "cell_type": "code",
   "execution_count": 5,
   "id": "18dd3080-91df-4249-b03f-0ddb2a04b27b",
   "metadata": {},
   "outputs": [],
   "source": [
    "def query_engine(query):\n",
    "    output = []\n",
    "    prompt = '''Answer in very-short sentence. Recommend activity using\n",
    "    relevant activity-{activity}\n",
    "    query-{query}.Handle semantics from your end.'''\n",
    "    url = \"http://localhost:11434/api/generate\"\n",
    "    data = {\n",
    "        \"model\": \"llama2\",\n",
    "        \"prompt\": prompt.format(activity=generate_response(query, corpus_of_documents), query=query)\n",
    "    }\n",
    "    headers = {\"Content-Type\": \"application/json\"}\n",
    "    response = requests.post(url, data=json.dumps(data), headers=headers, stream=True)\n",
    "    try:\n",
    "        for line in response.iter_lines():\n",
    "            if line:\n",
    "                output.append(json.loads(line.decode(\"utf-8\"))[\"response\"])\n",
    "    finally:\n",
    "        response.close()\n",
    "    return \"\".join(output)"
   ]
  },
  {
   "cell_type": "code",
   "execution_count": 7,
   "id": "dc10d546-a123-4f51-9844-984ffd41fa29",
   "metadata": {},
   "outputs": [
    {
     "name": "stdout",
     "output_type": "stream",
     "text": [
      "\n",
      "Great! To analyze overfitting in models using training and test data, perform the following activity:\n",
      "\n",
      "1. Split your dataset into training and test sets.\n",
      "2. Train a model on the training set.\n",
      "3. Evaluate the model's performance on the test set.\n",
      "4. Compare the model's performance on the test set to its performance on the training set.\n",
      "5. If the model performs significantly better on the training set than on the test set, it may be overfitting.\n",
      "6. Adjust the model's hyperparameters or experiment with different models to improve its generalization to unseen data.\n"
     ]
    }
   ],
   "source": [
    "print(query_engine(\"I know training and testing.\"))"
   ]
  },
  {
   "cell_type": "code",
   "execution_count": 9,
   "id": "25428464-23ec-41d8-b473-ebbda5c6429b",
   "metadata": {},
   "outputs": [
    {
     "name": "stdout",
     "output_type": "stream",
     "text": [
      "\n",
      "Great! Here's a recommendation for an activity that combines experimenting with operating systems and managing hardware and software:\n",
      "\n",
      "\"Conduct a computer build project, where you choose and assemble the necessary hardware components, install an operating system, and configure it to run smoothly. This will give you hands-on experience in managing hardware and software for optimal performance.\"\n"
     ]
    }
   ],
   "source": [
    "print(query_engine(\"I know softwares like operating system.\"))"
   ]
  },
  {
   "cell_type": "code",
   "execution_count": 11,
   "id": "39014402-b255-42d7-846e-e34c89f04232",
   "metadata": {},
   "outputs": [
    {
     "name": "stdout",
     "output_type": "stream",
     "text": [
      "\n",
      "Great! Investigating semiconductors powering modern electronic devices can be a fascinating and educational activity. Here are some suggestions on how to approach it:\n",
      "\n",
      "1. Research the types of semiconductors used in various electronic devices, such as computers, smartphones, and medical equipment.\n",
      "2. Explore the properties of semiconductors that make them useful for powering electronic devices, such as their ability to control the flow of electricity.\n",
      "3. Learn about the history of semiconductor technology and how it has evolved over time.\n",
      "4. Investigate the different applications of semiconductors in modern society, such as in solar cells, LED lights, and wireless communication systems.\n",
      "5. Consider the impact of semiconductors on the environment and society, including their role in reducing energy consumption and waste.\n",
      "6. Create a presentation or report showcasing your findings and sharing your insights with others.\n",
      "7. Conduct experiments to demonstrate the properties of semiconductors, such as creating a simple solar panel or building a circuit using diodes.\n",
      "8. Collaborate with other students or professionals in the field to gain a deeper understanding of semiconductor technology and its applications.\n"
     ]
    }
   ],
   "source": [
    "print(query_engine(\"I know about semiconductors and electronic devices.\"))"
   ]
  },
  {
   "cell_type": "code",
   "execution_count": 12,
   "id": "e081d1d4-20a8-4332-b626-8984039e302c",
   "metadata": {},
   "outputs": [
    {
     "name": "stdout",
     "output_type": "stream",
     "text": [
      "\n",
      "Great! Here's an activity recommendation for you:\n",
      "\n",
      "Maintaining good sleep hygiene can significantly improve brain health and overall wellness. Make sure to stick to a consistent sleep schedule, create a relaxing bedtime routine, and avoid stimulating activities before bedtime.\n"
     ]
    }
   ],
   "source": [
    "print(query_engine(\"I like to sleep a lot.\"))"
   ]
  },
  {
   "cell_type": "code",
   "execution_count": 13,
   "id": "ac08e8b9-a546-4093-a0a7-080fe0089274",
   "metadata": {},
   "outputs": [
    {
     "name": "stdout",
     "output_type": "stream",
     "text": [
      "\n",
      "Great! Using solar energy is a great way to store electrical energy using capacitors. Here are some activities you can do:\n",
      "\n",
      "1. Build a solar-powered car: Use capacitors to store electrical energy generated by solar panels and use it to power an electric motor to drive the car.\n",
      "2. Create a solar-powered lamp: Use a capacitor to store energy from a solar panel during the day, and then release it to light up a LED lamp at night.\n",
      "3. Make a solar-powered radio: Use a capacitor to store energy from a solar panel and use it to power a small radio circuit.\n"
     ]
    }
   ],
   "source": [
    "print(query_engine(\"I use solar energy.\"))"
   ]
  }
 ],
 "metadata": {
  "kernelspec": {
   "display_name": "Python 3 (ipykernel)",
   "language": "python",
   "name": "python3"
  },
  "language_info": {
   "codemirror_mode": {
    "name": "ipython",
    "version": 3
   },
   "file_extension": ".py",
   "mimetype": "text/x-python",
   "name": "python",
   "nbconvert_exporter": "python",
   "pygments_lexer": "ipython3",
   "version": "3.13.4"
  }
 },
 "nbformat": 4,
 "nbformat_minor": 5
}
